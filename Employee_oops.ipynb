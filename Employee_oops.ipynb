{
 "cells": [
  {
   "cell_type": "code",
   "execution_count": 2,
   "id": "c224c974",
   "metadata": {},
   "outputs": [
    {
     "name": "stdout",
     "output_type": "stream",
     "text": [
      "Google\n",
      "Google\n",
      "Youtube\n",
      "Youtube\n",
      "Microsoft\n",
      "Microsoft\n"
     ]
    }
   ],
   "source": [
    "#by using class\n",
    "class Employee:\n",
    "    company = \"Google\"\n",
    "lucy = Employee()\n",
    "silu = Employee()\n",
    "print(lucy.company)\n",
    "print(silu.company)\n",
    "Employee.company = \"Youtube\"\n",
    "print(lucy.company)\n",
    "print(silu.company)\n",
    "Employee.company = \"Microsoft\"\n",
    "print(lucy.company)\n",
    "print(silu.company)"
   ]
  },
  {
   "cell_type": "code",
   "execution_count": 4,
   "id": "a48361d8",
   "metadata": {},
   "outputs": [
    {
     "name": "stdout",
     "output_type": "stream",
     "text": [
      "Google\n",
      "Google\n",
      "Youtube\n",
      "Youtube\n",
      "Microsoft\n",
      "Microsoft\n",
      "4000\n",
      "40000\n"
     ]
    }
   ],
   "source": [
    "#by using instance\n",
    "class Employee:\n",
    "    company = \"Google\"\n",
    "lucy = Employee()\n",
    "silu = Employee()\n",
    "lucy.salary = 4000\n",
    "silu.salary = 40000\n",
    "print(lucy.company)\n",
    "print(silu.company)\n",
    "Employee.company = \"Youtube\"\n",
    "print(lucy.company)\n",
    "print(silu.company)\n",
    "Employee.company = \"Microsoft\"\n",
    "print(lucy.company)\n",
    "print(silu.company)\n",
    "print(lucy.salary)\n",
    "print(silu.salary)"
   ]
  },
  {
   "cell_type": "code",
   "execution_count": null,
   "id": "15842d84",
   "metadata": {},
   "outputs": [],
   "source": []
  }
 ],
 "metadata": {
  "kernelspec": {
   "display_name": "Python 3 (ipykernel)",
   "language": "python",
   "name": "python3"
  },
  "language_info": {
   "codemirror_mode": {
    "name": "ipython",
    "version": 3
   },
   "file_extension": ".py",
   "mimetype": "text/x-python",
   "name": "python",
   "nbconvert_exporter": "python",
   "pygments_lexer": "ipython3",
   "version": "3.9.7"
  }
 },
 "nbformat": 4,
 "nbformat_minor": 5
}
